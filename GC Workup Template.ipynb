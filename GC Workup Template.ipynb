{
 "cells": [
  {
   "cell_type": "code",
   "execution_count": null,
   "metadata": {},
   "outputs": [],
   "source": [
    "'''\n",
    "Original Script by Josh Rabinowitz\n",
    "'''\n",
    "import matplotlib.pyplot as plt\n",
    "plt.style.use('JGW-VS')\n",
    "plt.rcParams[\"figure.figsize\"] = (8,3)\n",
    "\n",
    "import glob\n",
    "from scipy import interpolate\n",
    "import numpy as np\n",
    "import pandas as pd\n",
    "from natsort import natsorted\n",
    "from GC_inline_analysis import *\n",
    "\n",
    "import os\n",
    "os.getcwd()"
   ]
  },
  {
   "cell_type": "code",
   "execution_count": null,
   "metadata": {
    "collapsed": false,
    "pycharm": {
     "is_executing": true,
     "name": "#%%\n"
    }
   },
   "outputs": [],
   "source": [
    "folder_path = r\"C:\\Users\\jgage\\OneDrive - Stanford\\Kanan Lab\\Data\\Liquid-Product-Crossover\\CO-Crossover_JGW2-32\\4bar_Naf212_JGW2-32-11\"\n",
    "\n",
    "df = handle_GC_data(folder_path, # saves GCdata.xlsx in same folder\n",
    "    26, 5424, # overallleft, overallright,\n",
    "    215, 250, 50, # COleft, COright, COthresh,\n",
    "    246, 261, 150000, # CH4left, CH4right, CH4thresh,\n",
    "    470, 515, 50, # C2H4left, C2H4right, C2H4thresh,\n",
    "    85, 115, 20, # H2left, H2right, H2thresh\n",
    "    100) # smooth\n",
    "\n",
    "# df.to_excel(excel_writer = folder_path + r'\\GCdata.xlsx', index = False)"
   ]
  }
 ],
 "metadata": {
  "kernelspec": {
   "display_name": "Python 3",
   "language": "python",
   "name": "python3"
  },
  "language_info": {
   "codemirror_mode": {
    "name": "ipython",
    "version": 3
   },
   "file_extension": ".py",
   "mimetype": "text/x-python",
   "name": "python",
   "nbconvert_exporter": "python",
   "pygments_lexer": "ipython3",
   "version": "3.9.7"
  }
 },
 "nbformat": 4,
 "nbformat_minor": 4
}
