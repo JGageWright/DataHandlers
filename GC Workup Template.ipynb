{
 "cells": [
  {
   "cell_type": "code",
   "execution_count": null,
   "metadata": {},
   "outputs": [],
   "source": [
    "'''\n",
    "Original Script by Josh Rabinowitz\n",
    "'''\n",
    "import matplotlib.pyplot as plt\n",
    "plt.style.use('JGW-VS')\n",
    "plt.rcParams[\"figure.figsize\"] = (8,3)\n",
    "\n",
    "import glob\n",
    "from scipy import interpolate\n",
    "import numpy as np\n",
    "import pandas as pd\n",
    "from natsort import natsorted\n",
    "from GC_inline_analysis import *\n",
    "\n",
    "import os\n",
    "os.getcwd()"
   ]
  },
  {
   "cell_type": "code",
   "execution_count": null,
   "metadata": {},
   "outputs": [],
   "source": [
    "# For 9 minute CO program, the plot values are: 26,5424\n",
    "# plot_GC_data('', \n",
    "   #          26,5424)"
   ]
  },
  {
   "cell_type": "code",
   "execution_count": null,
   "metadata": {},
   "outputs": [],
   "source": [
    "# GC Calibration\n",
    "\n",
    "# def integrate_peak(filepath, xleft, xright, thresh, smooth, gas)\n",
    "\n",
    "# integrate_peak('',\n",
    " #              230, 310, 50, 100, 'CO')\n",
    "\n",
    "#integrate_peak('',\n",
    " #              246, 261, 150000, 100, 'ch4')\n",
    "\n",
    "# integrate_peak('',\n",
    "#               465, 500, 50, 100, 'c2h4')\n",
    "\n",
    "# integrate_TCD_peak('',\n",
    "           #        90, 110, 30, 100)\n",
    "\n",
    "# handle_GC_data(\n",
    " #   ''\n",
    "  #  ,26, 5424, # overallleft, overallright,\n",
    "   # 230, 310, 50, # COleft, COright, COthresh,\n",
    "    # 246, 261, 150000, # CH4left, CH4right, CH4thresh,\n",
    "    # 440, 510, 50, # C2H4left, C2H4right, C2H4thresh,\n",
    "    # 85, 110, 30, # H2left, H2right, H2thresh\n",
    "    # 100) # smooth"
   ]
  },
  {
   "cell_type": "code",
   "execution_count": null,
   "metadata": {
    "collapsed": false,
    "pycharm": {
     "is_executing": true,
     "name": "#%%\n"
    }
   },
   "outputs": [],
   "source": [
    "folder_path = r\"C:\\Users\\jgage\\OneDrive - Stanford\\Kanan Lab\\Data\\Rotation\\JAR2-55 Config 2 - NiFeOH Dai Lab Prep Anode 1 - 700 ug Cu-PTFE GDE - 2M Cs2CO3 1M CsHCO3\"\n",
    "\n",
    "df = handle_GC_data(folder_path, # saves GCdata.xlsx in same folder\n",
    "    26, 5424, # overallleft, overallright,\n",
    "    215, 250, 50, # COleft, COright, COthresh,\n",
    "    246, 261, 150000, # CH4left, CH4right, CH4thresh,\n",
    "    470, 515, 50, # C2H4left, C2H4right, C2H4thresh,\n",
    "    85, 115, 20, # H2left, H2right, H2thresh\n",
    "    100) # smooth\n",
    "\n",
    "# df.to_excel(excel_writer = folder_path + r'\\GCdata.xlsx', index = False)"
   ]
  }
 ],
 "metadata": {
  "kernelspec": {
   "display_name": "Python 3",
   "language": "python",
   "name": "python3"
  },
  "language_info": {
   "codemirror_mode": {
    "name": "ipython",
    "version": 3
   },
   "file_extension": ".py",
   "mimetype": "text/x-python",
   "name": "python",
   "nbconvert_exporter": "python",
   "pygments_lexer": "ipython3",
   "version": "3.9.7"
  }
 },
 "nbformat": 4,
 "nbformat_minor": 4
}
