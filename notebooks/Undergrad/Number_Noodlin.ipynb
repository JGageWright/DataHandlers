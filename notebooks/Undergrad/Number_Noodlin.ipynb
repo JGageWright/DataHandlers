{
 "cells": [
  {
   "cell_type": "code",
   "execution_count": 3,
   "id": "0a121391-8f80-4785-aada-426302ce926a",
   "metadata": {},
   "outputs": [],
   "source": [
    "import pandas as pd\n",
    "import numpy as np\n",
    "from scipy.constants import physical_constants\n",
    "import matplotlib.pyplot as plt\n",
    "plt.style.use('..\\JGW.mplstyle')\n",
    "\n",
    "import sympy as sp\n",
    "from sympy.interactive import printing\n",
    "printing.init_printing(use_latex=True)\n",
    "from sympy.parsing.latex import parse_latex\n",
    "\n",
    "# Notebook version only\n",
    "# import os\n",
    "# os.chdir(r'C:\\Users\\Administrator\\Documents\\GitHub\\DataHandlers\\notebooks')\n",
    "# End Notebook version only\n",
    "\n",
    "from DataHandlers.ASTM_E698_2011 import PeakTempCorrection, iter_refine, get_Z, get_k\n",
    "from DataHandlers.LinReg import PolyReg"
   ]
  },
  {
   "cell_type": "code",
   "execution_count": 2,
   "id": "b7d2b707-976a-43ae-aefb-1f2d7a55c35a",
   "metadata": {},
   "outputs": [],
   "source": [
    "# --------------------------------------------------------------------------------------------\n",
    "# USER DEFINED PARAMETERS\n",
    "raw = pd.read_csv(r'Indium-VR_JGW-A-43.csv')\n",
    "mass = 5.491 #in mg\n",
    "Therm_Resist = 0.49441 #in K/mW\n",
    "\n",
    "beta_choose = 10\n",
    "T_Arrhenius = 200\n",
    "tolerance_frac = 0.005\n",
    "# --------------------------------------------------------------------------------------------"
   ]
  },
  {
   "cell_type": "code",
   "execution_count": 23,
   "id": "74fce14e-d041-4e66-8e33-a8219deeac36",
   "metadata": {},
   "outputs": [
    {
     "data": {
      "image/png": "[encoded data removed]",
      "text/latex": [
       "$\\displaystyle \\log{\\left(\\beta \\right)} = \\left(b + \\frac{s}{T \\left(m \\left(\\beta - 10\\right) + 1\\right)}\\right) \\log{\\left(10 \\right)}$"
      ],
      "text/plain": [
       "         ⎛            s         ⎞        \n",
       "log(β) = ⎜b + ──────────────────⎟⋅log(10)\n",
       "         ⎝    T⋅(m⋅(β - 10) + 1)⎠        "
      ]
     },
     "metadata": {},
     "output_type": "display_data"
    }
   ],
   "source": [
    "from sympy.abc import alpha, beta, s, m, T, f, g, h, R, b\n",
    "\n",
    "func = sp.Eq(sp.log(beta), sp.log(10)*(s / (T*((beta - 10)*m + 1)) + b))\n",
    "display(func)"
   ]
  },
  {
   "cell_type": "markdown",
   "id": "1c5ebc55-a3cc-4240-8972-5591614eaf99",
   "metadata": {},
   "source": [
    "## What's going on here????\n",
    "\n",
    "This equation is a substitution of the lever function into the adjusted FWO linear function, which was to be optimized to determine the value of m.\n",
    "\n",
    "It didn't work for the same reason the below cell throws an error: The equation has statements of both log(beta) and beta, so getting a simple expression is not possible.\n",
    "\n",
    "## Well what do I do????\n",
    "\n",
    "Now I am no math monkey, but I wonder if I can find and optimal value of m by stochastically guessing and just nudging it one way or the other. That would require me to know dR2/dm, which is tough if I have a nonlinear dependence of the fitting parameters and therefore residuals on beta.\n",
    "\n",
    "SHOULD I JUST COMPUTE ALL REASONABLE VALUES O"
   ]
  },
  {
   "cell_type": "code",
   "execution_count": 25,
   "id": "c7be76a0-c13b-4391-984f-af88471b54fa",
   "metadata": {},
   "outputs": [
    {
     "ename": "NotImplementedError",
     "evalue": "multiple generators [beta, log(beta)]\nNo algorithms are implemented to solve equation -(b + s/(T*(m*(beta - 10) + 1)))*log(10) + log(beta)",
     "output_type": "error",
     "traceback": [
      "\u001b[1;31m---------------------------------------------------------------------------\u001b[0m",
      "\u001b[1;31mNotImplementedError\u001b[0m                       Traceback (most recent call last)",
      "\u001b[1;32m<ipython-input-25-9a594ae82efb>\u001b[0m in \u001b[0;36m<module>\u001b[1;34m\u001b[0m\n\u001b[1;32m----> 1\u001b[1;33m \u001b[0mrate\u001b[0m \u001b[1;33m=\u001b[0m \u001b[0msp\u001b[0m\u001b[1;33m.\u001b[0m\u001b[0msolve\u001b[0m\u001b[1;33m(\u001b[0m\u001b[0mfunc\u001b[0m\u001b[1;33m,\u001b[0m \u001b[0mbeta\u001b[0m\u001b[1;33m)\u001b[0m\u001b[1;33m\u001b[0m\u001b[1;33m\u001b[0m\u001b[0m\n\u001b[0m\u001b[0;32m      2\u001b[0m \u001b[0mdisplay\u001b[0m\u001b[1;33m(\u001b[0m\u001b[0mrate\u001b[0m\u001b[1;33m)\u001b[0m\u001b[1;33m\u001b[0m\u001b[1;33m\u001b[0m\u001b[0m\n",
      "\u001b[1;32m~\\anaconda3\\lib\\site-packages\\sympy\\solvers\\solvers.py\u001b[0m in \u001b[0;36msolve\u001b[1;34m(f, *symbols, **flags)\u001b[0m\n\u001b[0;32m   1093\u001b[0m     \u001b[1;31m###########################################################################\u001b[0m\u001b[1;33m\u001b[0m\u001b[1;33m\u001b[0m\u001b[1;33m\u001b[0m\u001b[0m\n\u001b[0;32m   1094\u001b[0m     \u001b[1;32mif\u001b[0m \u001b[0mbare_f\u001b[0m\u001b[1;33m:\u001b[0m\u001b[1;33m\u001b[0m\u001b[1;33m\u001b[0m\u001b[0m\n\u001b[1;32m-> 1095\u001b[1;33m         \u001b[0msolution\u001b[0m \u001b[1;33m=\u001b[0m \u001b[0m_solve\u001b[0m\u001b[1;33m(\u001b[0m\u001b[0mf\u001b[0m\u001b[1;33m[\u001b[0m\u001b[1;36m0\u001b[0m\u001b[1;33m]\u001b[0m\u001b[1;33m,\u001b[0m \u001b[1;33m*\u001b[0m\u001b[0msymbols\u001b[0m\u001b[1;33m,\u001b[0m \u001b[1;33m**\u001b[0m\u001b[0mflags\u001b[0m\u001b[1;33m)\u001b[0m\u001b[1;33m\u001b[0m\u001b[1;33m\u001b[0m\u001b[0m\n\u001b[0m\u001b[0;32m   1096\u001b[0m     \u001b[1;32melse\u001b[0m\u001b[1;33m:\u001b[0m\u001b[1;33m\u001b[0m\u001b[1;33m\u001b[0m\u001b[0m\n\u001b[0;32m   1097\u001b[0m         \u001b[0msolution\u001b[0m \u001b[1;33m=\u001b[0m \u001b[0m_solve_system\u001b[0m\u001b[1;33m(\u001b[0m\u001b[0mf\u001b[0m\u001b[1;33m,\u001b[0m \u001b[0msymbols\u001b[0m\u001b[1;33m,\u001b[0m \u001b[1;33m**\u001b[0m\u001b[0mflags\u001b[0m\u001b[1;33m)\u001b[0m\u001b[1;33m\u001b[0m\u001b[1;33m\u001b[0m\u001b[0m\n",
      "\u001b[1;32m~\\anaconda3\\lib\\site-packages\\sympy\\solvers\\solvers.py\u001b[0m in \u001b[0;36m_solve\u001b[1;34m(f, *symbols, **flags)\u001b[0m\n\u001b[0;32m   1712\u001b[0m \u001b[1;33m\u001b[0m\u001b[0m\n\u001b[0;32m   1713\u001b[0m     \u001b[1;32mif\u001b[0m \u001b[0mresult\u001b[0m \u001b[1;32mis\u001b[0m \u001b[1;32mFalse\u001b[0m\u001b[1;33m:\u001b[0m\u001b[1;33m\u001b[0m\u001b[1;33m\u001b[0m\u001b[0m\n\u001b[1;32m-> 1714\u001b[1;33m         \u001b[1;32mraise\u001b[0m \u001b[0mNotImplementedError\u001b[0m\u001b[1;33m(\u001b[0m\u001b[1;34m'\\n'\u001b[0m\u001b[1;33m.\u001b[0m\u001b[0mjoin\u001b[0m\u001b[1;33m(\u001b[0m\u001b[1;33m[\u001b[0m\u001b[0mmsg\u001b[0m\u001b[1;33m,\u001b[0m \u001b[0mnot_impl_msg\u001b[0m \u001b[1;33m%\u001b[0m \u001b[0mf\u001b[0m\u001b[1;33m]\u001b[0m\u001b[1;33m)\u001b[0m\u001b[1;33m)\u001b[0m\u001b[1;33m\u001b[0m\u001b[1;33m\u001b[0m\u001b[0m\n\u001b[0m\u001b[0;32m   1715\u001b[0m \u001b[1;33m\u001b[0m\u001b[0m\n\u001b[0;32m   1716\u001b[0m     \u001b[1;32mif\u001b[0m \u001b[0mflags\u001b[0m\u001b[1;33m.\u001b[0m\u001b[0mget\u001b[0m\u001b[1;33m(\u001b[0m\u001b[1;34m'simplify'\u001b[0m\u001b[1;33m,\u001b[0m \u001b[1;32mTrue\u001b[0m\u001b[1;33m)\u001b[0m\u001b[1;33m:\u001b[0m\u001b[1;33m\u001b[0m\u001b[1;33m\u001b[0m\u001b[0m\n",
      "\u001b[1;31mNotImplementedError\u001b[0m: multiple generators [beta, log(beta)]\nNo algorithms are implemented to solve equation -(b + s/(T*(m*(beta - 10) + 1)))*log(10) + log(beta)"
     ]
    }
   ],
   "source": [
    "rate = sp.solve(func, beta)\n",
    "display(rate)"
   ]
  },
  {
   "cell_type": "code",
   "execution_count": null,
   "id": "15cbe4f8-07db-4c5f-90ed-b5d3a97d3f50",
   "metadata": {},
   "outputs": [],
   "source": []
  }
 ],
 "metadata": {
  "kernelspec": {
   "display_name": "Python 3",
   "language": "python",
   "name": "python3"
  },
  "language_info": {
   "codemirror_mode": {
    "name": "ipython",
    "version": 3
   },
   "file_extension": ".py",
   "mimetype": "text/x-python",
   "name": "python",
   "nbconvert_exporter": "python",
   "pygments_lexer": "ipython3",
   "version": "3.8.8"
  }
 },
 "nbformat": 4,
 "nbformat_minor": 5
}
