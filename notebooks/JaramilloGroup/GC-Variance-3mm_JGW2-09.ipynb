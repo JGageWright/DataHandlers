{
 "cells": [
  {
   "cell_type": "code",
   "execution_count": 5,
   "metadata": {
    "collapsed": true
   },
   "outputs": [],
   "source": [
    "import pandas as pd\n",
    "import matplotlib.pyplot as plt\n",
    "import numpy as np\n",
    "from importer_snippets import biologic_mpt_voltammetry\n",
    "from LinReg import PolyReg\n",
    "from scipy import interpolate\n",
    "import os\n",
    "plt.style.use(\"JGW-PPT\")\n",
    "\n",
    "plt.rcParams[\"figure.figsize\"] = (8,6)"
   ]
  },
  {
   "cell_type": "code",
   "execution_count": null,
   "outputs": [],
   "source": [
    "dir_name = r\"C:\\Users\\jgage\\OneDrive - Stanford\\Jaramillo Group\\EC-data\\GC-Variance-3mm_JGW2-09\"\n",
    "technique = 'CVA'\n",
    "\n",
    "data_frames = {}\n",
    "for file in os.listdir(dir_name):\n",
    "    if file.endswith(\".mpt\"):\n",
    "        if technique in str(file):\n",
    "            path = os.path.join(dir_name, file)\n",
    "            df = biologic_mpt_voltammetry(path)\n",
    "            data_frames[file] = df\n",
    "            # print(str(file)[:-4] + '.csv')\n",
    "            # df.to_csv(str(path)[:-4] + '.csv')\n",
    "            print(file)"
   ],
   "metadata": {
    "collapsed": false,
    "pycharm": {
     "name": "#%%\n",
     "is_executing": true
    }
   }
  },
  {
   "cell_type": "code",
   "execution_count": 10,
   "outputs": [],
   "source": [
    "a = ['400rpm_JGW2-09-07_04_CVA_C02.mpt', '800rpm_JGW2-09-06_04_CVA_C02.mpt', '1000rpm_JGW2-09-05_04_CVA_C02.mpt',\n",
    "     '1200rpm_JGW2-09-06_04_CVA_C02.mpt', '1400rpm_JGW2-09-05_04_CVA_C02.mpt', '1600rpm_JGW2-09-04_04_CVA_C02.mpt']\n",
    "\n",
    "rpm_series = []\n",
    "for i in a:\n",
    "    rpm_series.append(data_frames[i])"
   ],
   "metadata": {
    "collapsed": false,
    "pycharm": {
     "name": "#%%\n"
    }
   }
  },
  {
   "cell_type": "code",
   "execution_count": 11,
   "outputs": [],
   "source": [
    "for i in range(len(rpm_series)):\n",
    "    # Separate forward and reverse scans\n",
    "    scan_direction_bools = []\n",
    "    for k in range(len(rpm_series[i]['Ewe/V'])):\n",
    "        if k == 0:\n",
    "            scan_direction_bools.append(True)\n",
    "        elif rpm_series[i]['Ewe/V'][k - 1]  < rpm_series[i]['Ewe/V'][k]:\n",
    "            scan_direction_bools.append(True)\n",
    "        else:\n",
    "            scan_direction_bools.append(False)\n",
    "\n",
    "    rpm_series[i]['forward'] = scan_direction_bools"
   ],
   "metadata": {
    "collapsed": false,
    "pycharm": {
     "name": "#%%\n"
    }
   }
  },
  {
   "cell_type": "code",
   "execution_count": null,
   "outputs": [],
   "source": [
    "labels = ['400 rpm', '800 rpm', '1000 rpm', '1200 rpm', '1400 rpm', '1600 rpm']\n",
    "selected_cycle = 3\n",
    "ilc_est = []\n",
    "\n",
    "for i in range(len(rpm_series)):\n",
    "    fig, ax = plt.subplots()\n",
    "\n",
    "    # Convert to RHE, current in Amps\n",
    "    rpm_series[i]['E vs RHE'] = rpm_series[i]['Ewe/V'] + 0.958\n",
    "    rpm_series[i]['<I>/A'] = rpm_series[i]['<I>/mA'] / 1000\n",
    "\n",
    "    # Filter for cycle number\n",
    "    x = rpm_series[i].loc[rpm_series[i]['cycle number'] == selected_cycle]['E vs RHE']\n",
    "    y = rpm_series[i].loc[rpm_series[i]['cycle number'] == selected_cycle]['<I>/A']\n",
    "\n",
    "    ax.scatter(x, y, label = labels[i], c='C00')\n",
    "\n",
    "    # Check the middle region\n",
    "    plt.vlines([.36, .51], -6.0e-4, 0, colors='C01')\n",
    "    ilc_est.append(rpm_series[i].loc[rpm_series[i]['E vs RHE'].between(.36, .51)]['<I>/A'].mean())\n",
    "    plt.scatter((.51+.36)/2, ilc_est[i], c='C03', marker='_', s=300)\n",
    "\n",
    "\n",
    "\n",
    "    # ax.tick_params(axis='both', which='both', direction='in', right=True, top=True)\n",
    "    ax.set_xlabel('$E$ vs. RHE / V')\n",
    "    ax.set_ylabel('$i$ / A')\n",
    "    ax.ticklabel_format(style='sci', axis='y', scilimits=(0,0))\n",
    "    fig.legend(loc=(0.75, 0.78))\n",
    "    fig.tight_layout()\n",
    "    plt.show()"
   ],
   "metadata": {
    "collapsed": false,
    "pycharm": {
     "name": "#%%\n",
     "is_executing": true
    }
   }
  },
  {
   "cell_type": "code",
   "execution_count": null,
   "outputs": [],
   "source": [
    "omega = np.array([400, 800, 1000, 1200, 1400, 1600])\n",
    "\n",
    "x = (omega*2*np.pi / 60)**(1/2) # Convert to rad/s, then sqrt\n",
    "y = np.array(ilc_est)\n",
    "\n",
    "fit = PolyReg(x, y, 1)\n",
    "print(fit.report())\n",
    "\n",
    "fig, ax = plt.subplots()\n",
    "\n",
    "ax.scatter(x, y * 1000, label='Data') # Plot in mA, fit in A\n",
    "ax.plot(x, fit.eval(x) * 1000, label='Fit', color='C01') # Plot in mA, fit in A\n",
    "ax.set_xlabel('$\\omega^{-1/2}$ / rad$^{1/2}$ s$^{-1/2}$')\n",
    "ax.set_ylabel('$i_{lc}$ / mA')\n",
    "ax.ticklabel_format(style='sci', axis='y', scilimits=(0,0))\n",
    "# fig.legend(loc=(0.75, 0.78))\n",
    "fig.tight_layout()\n",
    "plt.show()\n",
    "fig.savefig(os.path.join(dir_name, 'ilc-omega0.5.png'))\n",
    "\n",
    "fit.report()"
   ],
   "metadata": {
    "collapsed": false,
    "pycharm": {
     "name": "#%%\n",
     "is_executing": true
    }
   }
  },
  {
   "cell_type": "code",
   "execution_count": 17,
   "outputs": [],
   "source": [
    "df = pd.DataFrame({'omega':(omega*2*np.pi / 60), 'ilc': ilc_est})\n",
    "df['omega0.5'] = np.sqrt(df['omega'])\n",
    "df.to_excel(os.path.join(dir_name,'omega-series_GC-Variance-3mm_JGW2-09.xlsx'))"
   ],
   "metadata": {
    "collapsed": false,
    "pycharm": {
     "name": "#%%\n"
    }
   }
  }
 ],
 "metadata": {
  "kernelspec": {
   "display_name": "Python 3",
   "language": "python",
   "name": "python3"
  },
  "language_info": {
   "codemirror_mode": {
    "name": "ipython",
    "version": 2
   },
   "file_extension": ".py",
   "mimetype": "text/x-python",
   "name": "python",
   "nbconvert_exporter": "python",
   "pygments_lexer": "ipython2",
   "version": "2.7.6"
  }
 },
 "nbformat": 4,
 "nbformat_minor": 0
}