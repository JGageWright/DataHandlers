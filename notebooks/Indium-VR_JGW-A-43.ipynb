{
 "cells": [
  {
   "cell_type": "code",
   "execution_count": 1,
   "id": "0638723d",
   "metadata": {
    "tags": []
   },
   "outputs": [],
   "source": [
    "import pandas as pd\n",
    "import numpy as np\n",
    "import matplotlib as mpl\n",
    "import matplotlib.pyplot as plt\n",
    "%matplotlib inline\n",
    "from LinReg_Copy1 import PolyReg"
   ]
  },
  {
   "cell_type": "code",
   "execution_count": 2,
   "id": "b7026a9f",
   "metadata": {},
   "outputs": [],
   "source": [
    "# USER DEFINED PARAMETERS\n",
    "raw = pd.read_csv('Indium-VR_InputsOnly_JGW-A-43.csv')\n",
    "mass = 5.491 #in mg\n",
    "Therm_Resist = 0.49441 #in K/mW"
   ]
  },
  {
   "cell_type": "code",
   "execution_count": 3,
   "id": "b4803f85",
   "metadata": {},
   "outputs": [],
   "source": [
    "def PeakTempCorrection(df, R0=0.49441, m=1):\n",
    "    '''\n",
    "    ASTM E698-11\n",
    "    df is a dataframe of raw data, which has Heat Rate, Peak Temp (C), and Peak Height (W/g) columns\n",
    "    R0 is the thermal resistance in K/mW\n",
    "    m is the mass of the sample in mg\n",
    "    \n",
    "    Could use some serious (simple) generalization. Column names are quite strict here.\n",
    "    '''\n",
    "    \n",
    "    df['Height (mW)'] = df['Height (W/g)'] * m / 1000\n",
    "    df['Lag Corr. Temp (C)'] = df['Peak Temp (C)'] - (df['Height (mW)'] * R0)\n",
    "    df['Lag Corr. ΔT'] = df['Lag Corr. Temp (C)'] - df.loc[df['Heat Rate']==10, 'Lag Corr. Temp (C)'].array\n",
    "    return df"
   ]
  },
  {
   "cell_type": "code",
   "execution_count": 4,
   "id": "de17f872",
   "metadata": {},
   "outputs": [
    {
     "name": "stdout",
     "output_type": "stream",
     "text": [
      "[ 0.03049881 -0.34307539] 0.9947592002930622\n"
     ]
    }
   ],
   "source": [
    "df = PeakTempCorrection(raw, Therm_Resist, mass)\n",
    "Rate_Corr = PolyReg(df['Heat Rate'], df['Lag Corr. ΔT'], 1)\n",
    "print(Rate_Corr.coef, Rate_Corr.r_squared, end='\\n')"
   ]
  },
  {
   "cell_type": "code",
   "execution_count": 6,
   "id": "fb1cee7e",
   "metadata": {},
   "outputs": [
    {
     "data": {
      "image/png": "[encoded data removed]",
      "text/plain": [
       "<Figure size 432x288 with 1 Axes>"
      ]
     },
     "metadata": {},
     "output_type": "display_data"
    }
   ],
   "source": [
    "fig, ax1 = plt.subplots()\n",
    "mpl.style.use('seaborn-whitegrid')\n",
    "ax1.scatter(df['Heat Rate'], df['Lag Corr. ΔT'], c='black', zorder=1)\n",
    "ax1.set_ylabel('Lag Corrected ΔT (K)')\n",
    "ax1.set_xlabel('Heating Rate (K/min)')\n",
    "ax2 = plt.plot(df['Heat Rate'], df['Heat Rate'] * Rate_Corr.coef[0] + Rate_Corr.coef[1])"
   ]
  },
  {
   "cell_type": "code",
   "execution_count": null,
   "id": "5f882dcc-ee3e-46a8-bff1-97ba2f8b2462",
   "metadata": {},
   "outputs": [],
   "source": []
  }
 ],
 "metadata": {
  "kernelspec": {
   "display_name": "Python 3",
   "language": "python",
   "name": "python3"
  },
  "language_info": {
   "codemirror_mode": {
    "name": "ipython",
    "version": 3
   },
   "file_extension": ".py",
   "mimetype": "text/x-python",
   "name": "python",
   "nbconvert_exporter": "python",
   "pygments_lexer": "ipython3",
   "version": "3.8.8"
  }
 },
 "nbformat": 4,
 "nbformat_minor": 5
}
