{
 "cells": [
  {
   "cell_type": "code",
   "execution_count": 1,
   "metadata": {
    "tags": []
   },
   "outputs": [],
   "source": [
    "import pandas as pd\n",
    "import numpy as np\n",
    "import matplotlib.pyplot as plt"
   ]
  },
  {
   "cell_type": "code",
   "execution_count": 2,
   "metadata": {
    "tags": []
   },
   "outputs": [],
   "source": [
    "class PolyReg:\n",
    "    \"\"\"\n",
    "    No parameters are fixed.\n",
    "    Object to hold all information associated with a polynomial model.\n",
    "    Polynomial coefficients in order of decreasing degree are in coef[i].\n",
    "    Note that ss_yy is commonly named ss_tot in other implementations.\n",
    "    coef = ndarray of fitting parameters in order of decreasing degree\n",
    "    ss_res = sum of squares of residuals.\n",
    "    std_err = ndarray of standard errors of the fitting parameters in order of decreasing degree.\n",
    "    These are calculated as the square root of diagonal elements in the covariance matrix\n",
    "    \"\"\"\n",
    "    def __init__(self, xdata, ydata, degree):\n",
    "        self.xdata = xdata\n",
    "        self.ydata = ydata\n",
    "        self.degree = degree\n",
    "        self.coef, self.cov = np.polyfit(xdata, ydata, degree, cov=True)\n",
    "        self.residuals = ydata - np.polyval(self.coef, xdata)\n",
    "        self.ss_res = np.sum(self.residuals**2)\n",
    "        self.ss_yy = np.sum((ydata - np.mean(ydata)) ** 2)\n",
    "        self.ss_xx = np.sum((xdata - np.mean(xdata)) ** 2)\n",
    "        self.ss_xy = np.sum((xdata - np.mean(xdata))*(ydata - np.mean(ydata)))\n",
    "        self.r_squared = 1 - (self.ss_res / self.ss_yy)\n",
    "        self.std_err = np.sqrt(np.diag(self.cov))\n",
    "        self.s_y = np.sqrt(self.ss_res / (len(ydata) - 1 - self.degree))\n",
    "        \n",
    "#     def __str__(self):\n",
    "#         coefficients = {}\n",
    "#         for i in self.coef:\n",
    "#             coefficents['coef'+str(i)] = i\n",
    "#         return coefficients"
   ]
  },
  {
   "cell_type": "code",
   "execution_count": 3,
   "metadata": {},
   "outputs": [],
   "source": [
    "# USER DEFINED PARAMETERS\n",
    "df = pd.read_csv('Indium-VR_InputsOnly_JGW-A-43.csv')\n",
    "mass = 5.491 #in mg\n",
    "Therm_Resist = 0.49441 #in K/mW"
   ]
  },
  {
   "cell_type": "code",
   "execution_count": 4,
   "metadata": {},
   "outputs": [
    {
     "name": "stdout",
     "output_type": "stream",
     "text": [
      "   Heat Rate  log10(Heat Rate)  Peak Temp (C)  Height (W/g)  Height (mW)  \\\n",
      "0          1          0.000000         155.40        1.3566     0.007449   \n",
      "1          2          0.301030         155.50        2.4256     0.013319   \n",
      "2          5          0.698970         155.71        4.6811     0.025704   \n",
      "3         10          1.000000         155.97        7.1608     0.039320   \n",
      "4         15          1.176091         156.17        8.7492     0.048042   \n",
      "5         20          1.301030         156.37        9.8964     0.054341   \n",
      "6         50          1.698970         157.38       13.2385     0.072693   \n",
      "7        100          2.000000         158.87       15.1974     0.083449   \n",
      "8        150          2.176091         160.25       16.0861     0.088329   \n",
      "9        200          2.301030         161.58       16.7268     0.091847   \n",
      "\n",
      "   Lag Corr. Temp (C)  Lag Corr. ΔT  \n",
      "0          155.396317     -0.554243  \n",
      "1          155.493415     -0.457145  \n",
      "2          155.697292     -0.253268  \n",
      "3          155.950560      0.000000  \n",
      "4          156.146248      0.195688  \n",
      "5          156.343133      0.392573  \n",
      "6          157.344060      1.393500  \n",
      "7          158.828742      2.878182  \n",
      "8          160.206329      4.255770  \n",
      "9          161.534590      5.584030  \n"
     ]
    }
   ],
   "source": [
    "df['Height (mW)'] = df['Height (W/g)'] * mass / 1000\n",
    "df['Lag Corr. Temp (C)'] = df['Peak Temp (C)'] - (df['Height (mW)'] * Therm_Resist)\n",
    "df['Lag Corr. ΔT'] = df['Lag Corr. Temp (C)'] - df.loc[df['Heat Rate']==10, 'Lag Corr. Temp (C)'].array\n",
    "print(df)"
   ]
  },
  {
   "cell_type": "code",
   "execution_count": 5,
   "metadata": {},
   "outputs": [
    {
     "name": "stdout",
     "output_type": "stream",
     "text": [
      "[ 0.03049881 -0.34307539] 0.9947592002930622\n"
     ]
    }
   ],
   "source": [
    "Rate_Corr = PolyReg(df['Heat Rate'], df['Lag Corr. ΔT'], 1)\n",
    "print(Rate_Corr.coef, Rate_Corr.r_squared, end='\\n')"
   ]
  },
  {
   "cell_type": "code",
   "execution_count": 14,
   "metadata": {},
   "outputs": [
    {
     "data": {
      "image/png": "[encoded data removed]",
      "text/plain": [
       "<Figure size 432x288 with 1 Axes>"
      ]
     },
     "metadata": {},
     "output_type": "display_data"
    }
   ],
   "source": [
    "fig, ax1 = plt.subplots()\n",
    "plt.style.use('seaborn-whitegrid')\n",
    "ax1.scatter(df['Heat Rate'], df['Lag Corr. ΔT'], c='black', zorder=1)\n",
    "ax1.set_ylabel('Lag Corrected ΔT (K)')\n",
    "ax1.set_xlabel('Heating Rate (K/min)')\n",
    "ax2 = plt.plot(df['Heat Rate'], df['Heat Rate'] * Rate_Corr.coef[0] + Rate_Corr.coef[1])"
   ]
  }
 ],
 "metadata": {
  "kernelspec": {
   "display_name": "Python 3",
   "language": "python",
   "name": "python3"
  },
  "language_info": {
   "codemirror_mode": {
    "name": "ipython",
    "version": 3
   },
   "file_extension": ".py",
   "mimetype": "text/x-python",
   "name": "python",
   "nbconvert_exporter": "python",
   "pygments_lexer": "ipython3",
   "version": "3.8.5"
  }
 },
 "nbformat": 4,
 "nbformat_minor": 5
}
