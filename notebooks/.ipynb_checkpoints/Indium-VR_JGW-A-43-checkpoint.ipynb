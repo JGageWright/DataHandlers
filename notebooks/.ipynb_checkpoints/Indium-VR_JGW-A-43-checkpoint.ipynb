{
 "cells": [
  {
   "cell_type": "code",
   "execution_count": 1,
   "id": "0638723d",
   "metadata": {
    "tags": []
   },
   "outputs": [],
   "source": [
    "import pandas as pd\n",
    "import numpy as np\n",
    "import matplotlib as mpl\n",
    "import matplotlib.pyplot as plt\n",
    "\n",
    "# Notebook version only\n",
    "import os\n",
    "os.chdir(r'C:\\Users\\Administrator\\Documents\\GitHub')\n",
    "# End Notebook version only\n",
    "\n",
    "from DataHandlers.LinReg import PolyReg\n",
    "from DataHandlers.ASTM_E698_2011 import PeakTempCorrection"
   ]
  },
  {
   "cell_type": "code",
   "execution_count": 2,
   "id": "b7026a9f",
   "metadata": {},
   "outputs": [],
   "source": [
    "# USER DEFINED PARAMETERS\n",
    "raw = pd.read_csv(r'C:\\Users\\Administrator\\Documents\\GitHub\\DataHandlers\\notebooks\\Indium-VR_InputsOnly_JGW-A-43.csv')\n",
    "mass = 5.491 #in mg\n",
    "Therm_Resist = 0.49441 #in K/mW"
   ]
  },
  {
   "cell_type": "code",
   "execution_count": 3,
   "id": "9f4a8cf2-1fa9-4aca-96a3-a87485d98791",
   "metadata": {},
   "outputs": [],
   "source": [
    "df = PeakTempCorrection(raw, Therm_Resist, mass)\n",
    "Rate_Corr = PolyReg(df['Heat Rate'], df['Lag Corr. ΔT'], 1)\n",
    "Rate_Corr.report()"
   ]
  },
  {
   "cell_type": "code",
   "execution_count": 13,
   "id": "3d9ba7bf-b69a-4e3c-988c-cd37376383d5",
   "metadata": {},
   "outputs": [],
   "source": [
    "df['Lag Corr. Temp (K)'] = df['Lag Corr. Temp (C)'] + 273.15\n",
    "df['lnβ/tm2'] = np.log(df['Heat Rate'] / df['Lag Corr. Temp (K)']**2)"
   ]
  },
  {
   "cell_type": "code",
   "execution_count": 15,
   "id": "fb1cee7e",
   "metadata": {},
   "outputs": [
    {
     "data": {
      "text/plain": [
       "Text(0.5, 0, '1/T')"
      ]
     },
     "execution_count": 15,
     "metadata": {},
     "output_type": "execute_result"
    },
    {
     "data": {
      "image/png": "[encoded data removed]",
      "text/plain": [
       "<Figure size 748.8x514.8 with 1 Axes>"
      ]
     },
     "metadata": {
      "needs_background": "light"
     },
     "output_type": "display_data"
    }
   ],
   "source": [
    "# fig, ax1 = plt.subplots()\n",
    "# mpl.style.use('seaborn-talk')\n",
    "# ax1.scatter(df['Heat Rate'], df['Lag Corr. ΔT'], c='black', zorder=1)\n",
    "# ax1.set_ylabel('Lag Corrected ΔT (K)')\n",
    "# ax1.set_xlabel('Heating Rate (K/min)')\n",
    "# ax2 = plt.plot(df['Heat Rate'], df['Heat Rate'] * Rate_Corr.coef[0] + Rate_Corr.coef[1])\n",
    "\n",
    "fig, ax1 = plt.subplots()\n",
    "mpl.style.use('seaborn-talk')\n",
    "ax1.scatter(1/df['Lag Corr. Temp (K)'], df['lnβ/tm2'], c='black', zorder=1)\n",
    "ax1.set_ylabel('lnβ/tm2')\n",
    "ax1.set_xlabel('1/T')\n",
    "# ax2 = plt.plot(df['Heat Rate'], df['Heat Rate'] * Rate_Corr.coef[0] + Rate_Corr.coef[1])"
   ]
  },
  {
   "cell_type": "code",
   "execution_count": null,
   "id": "c2fd8759-80a2-4f98-b836-817a07c28e31",
   "metadata": {},
   "outputs": [],
   "source": []
  }
 ],
 "metadata": {
  "kernelspec": {
   "display_name": "Python 3",
   "language": "python",
   "name": "python3"
  },
  "language_info": {
   "codemirror_mode": {
    "name": "ipython",
    "version": 3
   },
   "file_extension": ".py",
   "mimetype": "text/x-python",
   "name": "python",
   "nbconvert_exporter": "python",
   "pygments_lexer": "ipython3",
   "version": "3.8.8"
  }
 },
 "nbformat": 4,
 "nbformat_minor": 5
}
