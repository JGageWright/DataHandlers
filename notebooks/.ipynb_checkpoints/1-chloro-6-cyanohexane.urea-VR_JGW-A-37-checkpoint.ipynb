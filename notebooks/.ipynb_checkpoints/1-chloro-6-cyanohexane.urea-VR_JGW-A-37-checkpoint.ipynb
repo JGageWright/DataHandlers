{
 "cells": [
  {
   "cell_type": "code",
   "execution_count": 1,
   "metadata": {},
   "outputs": [],
   "source": [
    "import pandas as pd\n",
    "import numpy as np\n",
    "import matplotlib as mpl\n",
    "import matplotlib.pyplot as plt\n",
    "%matplotlib inline\n",
    "# from ..DataHandlers.LinReg import PolyReg\n",
    "from LinReg_Copy1 import PolyReg"
   ]
  },
  {
   "cell_type": "code",
   "execution_count": 2,
   "metadata": {},
   "outputs": [],
   "source": [
    "# USER DEFINED PARAMETERS\n",
    "raw = pd.read_csv('1-chloro-6-cyanohexane.urea-VR_JGW-A-37.csv')\n",
    "mass = 9.620 #in mg\n",
    "Therm_Resist = 0.49441 #in K/mW"
   ]
  },
  {
   "cell_type": "code",
   "execution_count": 3,
   "metadata": {},
   "outputs": [],
   "source": [
    "def PeakTempCorrection(df, R0=0.49441, m=1):\n",
    "    '''\n",
    "    ASTM E698-11\n",
    "    df is a dataframe of raw data, which has Heat Rate, Peak Temp (C), and Peak Height (W/g) columns\n",
    "    R0 is the thermal resistance in K/mW\n",
    "    m is the mass of the sample in mg\n",
    "    \n",
    "    Could use some serious (simple) generalization. Column names are quite strict here.\n",
    "    '''\n",
    "    \n",
    "    df['Height (mW)'] = df['Height (W/g)'] * m / 1000\n",
    "    df['Lag Corr. Temp (C)'] = df['Peak Temp (C)'] - (df['Height (mW)'] * R0)\n",
    "    df['Lag Corr. ΔT'] = df['Lag Corr. Temp (C)'] - df.loc[df['Heat Rate']==10, 'Lag Corr. Temp (C)'].array\n",
    "    return df"
   ]
  },
  {
   "cell_type": "code",
   "execution_count": 4,
   "metadata": {},
   "outputs": [
    {
     "data": {
      "text/plain": [
       "coef_deg1       0.042463\n",
       "std_err_deg1    0.001333\n",
       "coef_deg0      -0.114879\n",
       "std_err_deg0    0.133390\n",
       "r_squared       0.989272\n",
       "s_y             0.309733\n",
       "dtype: float64"
      ]
     },
     "execution_count": 4,
     "metadata": {},
     "output_type": "execute_result"
    }
   ],
   "source": [
    "df = PeakTempCorrection(raw, Therm_Resist, mass)\n",
    "Rate_Corr = PolyReg(df['Heat Rate'], df['Lag Corr. ΔT'], 1)\n",
    "Rate_Corr.report()"
   ]
  },
  {
   "cell_type": "code",
   "execution_count": 6,
   "metadata": {},
   "outputs": [
    {
     "data": {
      "image/png": "[encoded data removed]",
      "text/plain": [
       "<Figure size 432x288 with 2 Axes>"
      ]
     },
     "metadata": {},
     "output_type": "display_data"
    }
   ],
   "source": [
    "fig, ax1 = plt.subplots()\n",
    "# mpl.style.use('seaborn-whitegrid')\n",
    "ax1.scatter(df['Heat Rate'], df['Lag Corr. ΔT'], c='black', zorder=0.1)\n",
    "ax1.set_ylabel('Lag Corrected ΔT (K)')\n",
    "ax1.set_xlabel('Heating Rate (K/min)')\n",
    "\n",
    "# ax2 = ax1.twinx().twiny()\n",
    "# How does one plot non-current ax on new fig???\n",
    "ax2 = plt.plot(df['Heat Rate'], df['Heat Rate'] * Rate_Corr.coef[0] + Rate_Corr.coef[1])\n",
    "\n",
    "# Does the Lag Correction affect linearity?\n",
    "x_unc, y_unc = df['Heat Rate'], df['Peak Temp (C)'] - df.loc[df['Heat Rate']==10, 'Peak Temp (C)'].array\n",
    "ax3 = ax1.twiny()\n",
    "ax3 = plt.scatter(x_unc, y_unc, c='red', zorder=1)\n",
    "# ax3.set(ylabel='Uncorrected ΔT (K)')\n"
   ]
  },
  {
   "cell_type": "code",
   "execution_count": null,
   "metadata": {},
   "outputs": [],
   "source": []
  }
 ],
 "metadata": {
  "kernelspec": {
   "display_name": "Python 3",
   "language": "python",
   "name": "python3"
  },
  "language_info": {
   "codemirror_mode": {
    "name": "ipython",
    "version": 3
   },
   "file_extension": ".py",
   "mimetype": "text/x-python",
   "name": "python",
   "nbconvert_exporter": "python",
   "pygments_lexer": "ipython3",
   "version": "3.8.8"
  }
 },
 "nbformat": 4,
 "nbformat_minor": 4
}
