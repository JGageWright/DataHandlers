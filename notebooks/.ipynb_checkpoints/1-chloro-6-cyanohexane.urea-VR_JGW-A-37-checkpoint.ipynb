{
 "cells": [
  {
   "cell_type": "code",
   "execution_count": 1,
   "metadata": {},
   "outputs": [],
   "source": [
    "import pandas as pd\n",
    "import numpy as np\n",
    "import matplotlib.pyplot as plt"
   ]
  },
  {
   "cell_type": "code",
   "execution_count": 2,
   "metadata": {},
   "outputs": [],
   "source": [
    "class PolyReg:\n",
    "    \"\"\"\n",
    "    No parameters are fixed.\n",
    "    Object to hold all information associated with a polynomial model.\n",
    "    Polynomial coefficients in order of decreasing degree are in coef[i].\n",
    "    Note that ss_yy is commonly named ss_tot in other implementations.\n",
    "    coef = ndarray of fitting parameters in order of decreasing degree\n",
    "    ss_res = sum of squares of residuals.\n",
    "    std_err = ndarray of standard errors of the fitting parameters in order of decreasing degree.\n",
    "    These are calculated as the square root of diagonal elements in the covariance matrix\n",
    "    \"\"\"\n",
    "    def __init__(self, xdata, ydata, degree):\n",
    "        self.xdata = xdata\n",
    "        self.ydata = ydata\n",
    "        self.degree = degree\n",
    "        self.coef, self.cov = np.polyfit(xdata, ydata, degree, cov=True)\n",
    "        self.residuals = ydata - np.polyval(self.coef, xdata)\n",
    "        self.ss_res = np.sum(self.residuals**2)\n",
    "        self.ss_yy = np.sum((ydata - np.mean(ydata)) ** 2)\n",
    "        self.ss_xx = np.sum((xdata - np.mean(xdata)) ** 2)\n",
    "        self.ss_xy = np.sum((xdata - np.mean(xdata))*(ydata - np.mean(ydata)))\n",
    "        self.r_squared = 1 - (self.ss_res / self.ss_yy)\n",
    "        self.std_err = np.sqrt(np.diag(self.cov))\n",
    "        self.s_y = np.sqrt(self.ss_res / (len(ydata) - 1 - self.degree))"
   ]
  },
  {
   "cell_type": "code",
   "execution_count": 3,
   "metadata": {},
   "outputs": [],
   "source": [
    "# USER DEFINED PARAMETERS\n",
    "df = pd.read_csv('1-chloro-6-cyanohexane.urea-VR_JGW-A-37.csv')\n",
    "mass = 9.620 #in mg\n",
    "Therm_Resist = 0.49441 #in K/mW"
   ]
  },
  {
   "cell_type": "code",
   "execution_count": 4,
   "metadata": {},
   "outputs": [
    {
     "name": "stdout",
     "output_type": "stream",
     "text": [
      "    Heat Rate  log10(Heat Rate)  Peak Temp (C)  Height (W/g)  Height (mW)  \\\n",
      "0           5          0.698970         -68.22        0.1740     0.001674   \n",
      "1          10          1.000000         -67.81        0.3567     0.003431   \n",
      "2          15          1.176091         -67.47        0.5160     0.004964   \n",
      "3          20          1.301030         -67.27        0.6719     0.006464   \n",
      "4          30          1.477121         -66.32        0.9459     0.009100   \n",
      "5          40          1.602060         -65.93        1.0692     0.010286   \n",
      "6          50          1.698970         -65.41        1.2582     0.012104   \n",
      "7          75          1.875061         -64.38        1.6335     0.015714   \n",
      "8         100          2.000000         -63.43        1.9328     0.018594   \n",
      "9         125          2.096910         -62.56        2.1200     0.020394   \n",
      "10        150          2.176091         -61.63        2.3271     0.022387   \n",
      "11        175          2.243038         -60.56        2.3980     0.023069   \n",
      "12        200          2.301030         -59.72        2.4545     0.023612   \n",
      "\n",
      "    Lag Corr. Temp (C)  Lag Corr. ΔT  \n",
      "0           -68.220828     -0.409131  \n",
      "1           -67.811697      0.000000  \n",
      "2           -67.472454      0.339242  \n",
      "3           -67.273196      0.538501  \n",
      "4           -66.324499      1.487198  \n",
      "5           -65.935085      1.876611  \n",
      "6           -65.415984      2.395712  \n",
      "7           -64.387769      3.423927  \n",
      "8           -63.439193      4.372504  \n",
      "9           -62.570083      5.241613  \n",
      "10          -61.641068      6.170628  \n",
      "11          -60.571405      7.240291  \n",
      "12          -59.731674      8.080022  \n"
     ]
    }
   ],
   "source": [
    "df['Height (mW)'] = df['Height (W/g)'] * mass / 1000\n",
    "df['Lag Corr. Temp (C)'] = df['Peak Temp (C)'] - (df['Height (mW)'] * Therm_Resist)\n",
    "df['Lag Corr. ΔT'] = df['Lag Corr. Temp (C)'] - df.loc[df['Heat Rate']==10, 'Lag Corr. Temp (C)'].array\n",
    "print(df)"
   ]
  },
  {
   "cell_type": "code",
   "execution_count": 5,
   "metadata": {},
   "outputs": [
    {
     "name": "stdout",
     "output_type": "stream",
     "text": [
      "[ 0.04246286 -0.11487915] 0.989271992961883\n"
     ]
    }
   ],
   "source": [
    "Rate_Corr = PolyReg(df['Heat Rate'], df['Lag Corr. ΔT'], 1)\n",
    "print(Rate_Corr.coef, Rate_Corr.r_squared, end='\\n')"
   ]
  },
  {
   "cell_type": "code",
   "execution_count": 8,
   "metadata": {},
   "outputs": [
    {
     "data": {
      "image/png": "[encoded data removed]",
      "text/plain": [
       "<Figure size 432x288 with 1 Axes>"
      ]
     },
     "metadata": {},
     "output_type": "display_data"
    }
   ],
   "source": [
    "fig, ax1 = plt.subplots()\n",
    "plt.style.use('seaborn-whitegrid')\n",
    "ax1.scatter(df['Heat Rate'], df['Lag Corr. ΔT'], c='black', zorder=1)\n",
    "ax1.set_ylabel('Lag Corrected ΔT (K)')\n",
    "ax1.set_xlabel('Heating Rate (K/min)')\n",
    "ax2 = plt.plot(df['Heat Rate'], df['Heat Rate'] * Rate_Corr.coef[0] + Rate_Corr.coef[1])"
   ]
  }
 ],
 "metadata": {
  "kernelspec": {
   "display_name": "Python 3",
   "language": "python",
   "name": "python3"
  },
  "language_info": {
   "codemirror_mode": {
    "name": "ipython",
    "version": 3
   },
   "file_extension": ".py",
   "mimetype": "text/x-python",
   "name": "python",
   "nbconvert_exporter": "python",
   "pygments_lexer": "ipython3",
   "version": "3.8.5"
  }
 },
 "nbformat": 4,
 "nbformat_minor": 4
}
