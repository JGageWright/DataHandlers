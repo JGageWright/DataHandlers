{
 "cells": [
  {
   "cell_type": "code",
   "execution_count": 7,
   "metadata": {},
   "outputs": [
    {
     "ename": "ModuleNotFoundError",
     "evalue": "No module named 'importer_snippets'",
     "output_type": "error",
     "traceback": [
      "\u001b[1;31m---------------------------------------------------------------------------\u001b[0m",
      "\u001b[1;31mModuleNotFoundError\u001b[0m                       Traceback (most recent call last)",
      "\u001b[1;32m<ipython-input-7-08ae18e58226>\u001b[0m in \u001b[0;36m<module>\u001b[1;34m\u001b[0m\n\u001b[0;32m      4\u001b[0m \u001b[1;32mfrom\u001b[0m \u001b[0msklearn\u001b[0m\u001b[1;33m.\u001b[0m\u001b[0mlinear_model\u001b[0m \u001b[1;32mimport\u001b[0m \u001b[0mLinearRegression\u001b[0m\u001b[1;33m\u001b[0m\u001b[1;33m\u001b[0m\u001b[0m\n\u001b[0;32m      5\u001b[0m \u001b[1;32mimport\u001b[0m \u001b[0mseaborn\u001b[0m \u001b[1;32mas\u001b[0m \u001b[0msns\u001b[0m\u001b[1;33m\u001b[0m\u001b[1;33m\u001b[0m\u001b[0m\n\u001b[1;32m----> 6\u001b[1;33m \u001b[1;32mfrom\u001b[0m \u001b[0mimporter_snippets\u001b[0m \u001b[1;32mimport\u001b[0m \u001b[0mmake_ELISA_dataframe\u001b[0m \u001b[1;32mas\u001b[0m \u001b[0mELISA_import\u001b[0m\u001b[1;33m\u001b[0m\u001b[1;33m\u001b[0m\u001b[0m\n\u001b[0m",
      "\u001b[1;31mModuleNotFoundError\u001b[0m: No module named 'importer_snippets'"
     ]
    }
   ],
   "source": [
    "import pandas as pd\n",
    "import numpy as np\n",
    "import matplotlib.pyplot as plt\n",
    "from sklearn.linear_model import LinearRegression\n",
    "import seaborn as sns\n",
    "from importer_snippets import make_ELISA_dataframe as ELISA_import"
   ]
  },
  {
   "cell_type": "code",
   "execution_count": 2,
   "metadata": {},
   "outputs": [],
   "source": [
    "data_path = r'testdata_02192021_rhMMP9.txt' # Used Scan 2\n",
    "with open(data_path) as file:\n",
    "    lines = file.readlines()\n",
    "    lines.pop(0)\n",
    "    n = int((len(lines)) / 11)\n",
    "    output_dataframes = []\n",
    "    for i in range(n):\n",
    "        df = ELISA_import(lines[11*i:11*i + 8])\n",
    "        output_dataframes.append(df)\n",
    "        \n",
    "# Choose scan to use and do background subtraction\n",
    "raw = output_dataframes[1].iloc[0:8, 0:8]\n",
    "sub = raw.iloc[0:6, 0:8].sub(raw.iloc[6:8, 0:8].mean(axis=1).mean(axis=0))"
   ]
  },
  {
   "cell_type": "code",
   "execution_count": 3,
   "metadata": {},
   "outputs": [],
   "source": [
    "# Reshape s.t. rows are replicants, the typical quadruplicant layout is below\n",
    "reshape = sub.iloc[:, 4:8].rename(\n",
    "    index={'A': 'I', 'B': 'J','C': 'K','D': 'L','E': 'M','F': 'N'}, \n",
    "    columns={5: 1, 6: 2, 7: 3, 8: 4})\n",
    "data = sub.iloc[:, 0:4].append(reshape)"
   ]
  },
  {
   "cell_type": "code",
   "execution_count": 4,
   "metadata": {},
   "outputs": [],
   "source": [
    "# Replace outliers with NaN\n",
    "def grubbs_filter(data):\n",
    "    '''\n",
    "    This will be necessary, needs to replace any singular outlier with NaN\n",
    "    '''\n",
    "    pass\n",
    "\n",
    "# the outlier I happen to have already found, write the function!\n",
    "# data.iloc[2,3] = np.NaN"
   ]
  },
  {
   "cell_type": "code",
   "execution_count": 5,
   "metadata": {},
   "outputs": [
    {
     "name": "stdout",
     "output_type": "stream",
     "text": [
      "0.002637\n"
     ]
    }
   ],
   "source": [
    "# Run stats\n",
    "data['Mean'] = data.iloc[:,0:4].mean(axis=1)\n",
    "data['SD'] = data.iloc[:, 0:4].std(ddof=1, axis=1)\n",
    "data['Conc'] = {3500:'A',2500:'B',1500:'C',1000:'D',\n",
    "                750:'E',500:'F',400:'I',300:'J',\n",
    "                200:'K',100:'L',50:'M',25:'N'}\n",
    "\n",
    "reg_x = data['Conc'].loc['F':'N'].values.reshape(-1,1)\n",
    "reg_y = data['Mean'].loc['F':'N'].values.reshape(-1,1)\n",
    "reg = LinearRegression().fit(reg_x, reg_y)"
   ]
  },
  {
   "cell_type": "code",
   "execution_count": 11,
   "metadata": {},
   "outputs": [
    {
     "data": {
      "image/png": "[encoded data removed]",
      "text/plain": [
       "<Figure size 432x288 with 1 Axes>"
      ]
     },
     "metadata": {},
     "output_type": "display_data"
    },
    {
     "data": {
      "image/png": "[encoded data removed]",
      "text/plain": [
       "<Figure size 432x288 with 1 Axes>"
      ]
     },
     "metadata": {},
     "output_type": "display_data"
    }
   ],
   "source": [
    "# Make plot\n",
    "fig = plt.figure()\n",
    "plt.style.use('seaborn-whitegrid')\n",
    "ax = fig.add_subplot(111)\n",
    "ax.scatter(data['Conc'], data['Mean'], c='black', zorder=1)\n",
    "ax.errorbar(data['Conc'], data['Mean'], data['SD'], linestyle='None', \n",
    "            elinewidth=1, c='red', capsize=3, capthick=1, zorder=0.9)\n",
    "ax.set_ylabel('OD (a.u.)')\n",
    "ax.set_xlabel('rhMMP-9 Concentration (pg/mL)')\n",
    "ax.set_xlim([-150, 4000])\n",
    "ax.set_ylim([-.1, 2.5])\n",
    "\n",
    "# Make another showing linear fit\n",
    "fig2 = plt.figure()\n",
    "ax2 = fig2.add_subplot(111)\n",
    "ax2.scatter(reg_x, reg_y, c='k', zorder=1)\n",
    "ax2.plot(reg_x, reg.predict(reg_x), color='r', zorder=0.8)\n",
    "ax2.errorbar(reg_x, reg_y, data['SD'].loc['F':'N'], linestyle='None', \n",
    "            elinewidth=1, c='red', capsize=3, capthick=1, zorder=0.9)\n",
    "\n",
    "# Put the equation on the graph\n",
    "text_slope, text_intercept = '$'+str(round(float(reg.coef_), 6))+'$', '$'+str(round(float(reg.intercept_), 6))+'$'\n",
    "text_Rsquared = '$'+str(round(float(reg.score(reg_x, reg_y)), 4))+'$'\n",
    "fig2.text(0.01, 0.9,\n",
    "          r'$OD =$'\n",
    "          + text_slope \n",
    "          + r'$\\;\\frac{mL}{pg}\\;[MMP-9]+$' \n",
    "          + text_intercept + '\\n'\n",
    "          + r'$R^{2}=$' + text_Rsquared,\n",
    "          horizontalalignment='left',\n",
    "          size=12,\n",
    "          verticalalignment='top',\n",
    "          transform=ax.transAxes)\n",
    "\n",
    "ax2.set_ylabel('OD (a.u.)')\n",
    "ax2.set_xlabel('rhMMP-9 Concentration (pg/mL)')\n",
    "ax2.set_yticks(np.arange(0, 1.7, .5))\n",
    "ax2.set_xlim([-50, 600])\n",
    "ax2.set_ylim([-.1, 1.6])"
   ]
  },
  {
   "cell_type": "code",
   "execution_count": null,
   "metadata": {},
   "outputs": [],
   "source": []
  }
 ],
 "metadata": {
  "kernelspec": {
   "display_name": "Python 3",
   "language": "python",
   "name": "python3"
  },
  "language_info": {
   "codemirror_mode": {
    "name": "ipython",
    "version": 3
   },
   "file_extension": ".py",
   "mimetype": "text/x-python",
   "name": "python",
   "nbconvert_exporter": "python",
   "pygments_lexer": "ipython3",
   "version": "3.8.5"
  }
 },
 "nbformat": 4,
 "nbformat_minor": 4
}
